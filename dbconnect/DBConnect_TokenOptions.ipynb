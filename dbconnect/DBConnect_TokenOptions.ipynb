{
 "cells": [
  {
   "cell_type": "code",
   "execution_count": null,
   "id": "a21a033a-9048-4d45-ad83-332de3f24246",
   "metadata": {},
   "outputs": [],
   "source": [
    "from databricks.connect import DatabricksSession\n",
    "\n",
    "spark = DatabricksSession.builder.getOrCreate()\n",
    "\n",
    "df = spark.read.table(\"samples.nyctaxi.trips\")\n",
    "df.show(5)\n"
   ]
  },
  {
   "cell_type": "code",
   "execution_count": null,
   "id": "f5facc50-ec21-4fa1-bdf8-ace7b6305030",
   "metadata": {},
   "outputs": [],
   "source": [
    "from pyspark.sql import SparkSession, DataFrame\n",
    "\n",
    "def get_spark() -> SparkSession:\n",
    "  try:\n",
    "    from databricks.connect import DatabricksSession\n",
    "    return DatabricksSession.builder.getOrCreate()\n",
    "  except ImportError:\n",
    "    return SparkSession.builder.getOrCreate()\n",
    "\n",
    "def get_taxis(spark: SparkSession) -> DataFrame:\n",
    "  return spark.read.table(\"samples.nyctaxi.trips\")\n",
    "\n",
    "get_taxis(get_spark()).show(5)"
   ]
  },
  {
   "cell_type": "code",
   "execution_count": null,
   "id": "b64cb18f-8371-495c-937c-a5f2b91ee48e",
   "metadata": {},
   "outputs": [],
   "source": [
    "# %%sh\n",
    "# databricks auth login --host https://e2-dogfood.staging.cloud.databricks.com/"
   ]
  },
  {
   "cell_type": "code",
   "execution_count": null,
   "id": "8cf9db83-df26-4958-86d5-cee38faa5015",
   "metadata": {},
   "outputs": [],
   "source": [
    "%md\n",
    "# Manual token U2M\n",
    "https://docs.databricks.com/en/dev-tools/auth/oauth-u2m.html#manually-generate-and-use-access-tokens-for-oauth-user-to-machine-u2m-authentication\n"
   ]
  },
  {
   "cell_type": "code",
   "execution_count": null,
   "id": "9646e06d-8bcc-4742-a494-f833d99e2cdc",
   "metadata": {},
   "outputs": [],
   "source": [
    "import uuid, hashlib, base64\n",
    "\n",
    "# Generate a UUID.\n",
    "uuid1 = uuid.uuid4()\n",
    "\n",
    "# Convert the UUID to a string.\n",
    "uuid_str1 = str(uuid1).upper()\n",
    "\n",
    "# Create the code verifier.\n",
    "code_verifier = uuid_str1 + \"-\" + uuid_str1\n",
    "\n",
    "# Create the code challenge based on the code verifier.\n",
    "code_challenge = base64.urlsafe_b64encode(hashlib.sha256(code_verifier.encode()).digest()).decode('utf-8')\n",
    "\n",
    "# Remove all padding from the code challenge.\n",
    "code_challenge = code_challenge.replace('=', '')\n",
    "\n",
    "# Print the code verifier and the code challenge.\n",
    "# Use these in your calls to manually generate\n",
    "# access tokens for OAuth U2M authentication.\n",
    "print(f\"code_verifier:  {code_verifier}\")\n",
    "print(f\"code_challenge: {code_challenge}\")\n"
   ]
  },
  {
   "cell_type": "code",
   "execution_count": null,
   "id": "9924cb2a-61c4-426d-a165-98598c6cfae2",
   "metadata": {},
   "outputs": [],
   "source": [
    "print(\"Browse on your local environment to:\")\n",
    "print(f\"https://e2-dogfood.staging.cloud.databricks.com/oidc/v1/authorize?client_id=databricks-cli&redirect_uri=http://localhost:8020&response_type=code&state=dv20240501&code_challenge={code_challenge}&code_challenge_method=S256&scope=all-apis+offline_access\")"
   ]
  },
  {
   "cell_type": "code",
   "execution_count": null,
   "id": "4c9b1fc1-e1cc-464e-a565-785286e927f6",
   "metadata": {},
   "outputs": [],
   "source": [
    "# import requests\n",
    "# import json\n",
    "\n",
    "# my_code = \"\"\n",
    "\n",
    "# host = \"https://e2-dogfood.staging.cloud.databricks.com\"\n",
    "# data = {\n",
    "#     \"client_id\": \"databricks-cli\",\n",
    "#     \"grant_type\": \"authorization_code\",\n",
    "#     \"scope\": \"all-apis offline_access\",\n",
    "#     \"redirect_uri\": \"http://localhost:8020\",\n",
    "#     \"code_verifier\": code_verifier,\n",
    "#     \"code\": my_code\n",
    "# }\n",
    "# url = f\"{host}/oidc/v1/token\"\n",
    "# headers = {'Content-Type': 'application/x-www-form-urlencoded'}\n",
    "\n",
    "# response = requests.post(url, data=data, headers=headers)\n",
    "# if response == 200:\n",
    "#     try:\n",
    "#         response_json = response.json()\n",
    "#         token = response_json.get('access_token')\n",
    "#         refresh_token = response_json.get('refresh_token')\n",
    "#     except Exception as e:\n",
    "#         raise e\n",
    "# else:\n",
    "#     print(response)\n"
   ]
  },
  {
   "cell_type": "code",
   "execution_count": null,
   "id": "9785e174-f38a-475e-a347-f35ad2adf813",
   "metadata": {},
   "outputs": [],
   "source": [
    "%md\n",
    "# SDK auth"
   ]
  },
  {
   "cell_type": "code",
   "execution_count": null,
   "id": "6fe2ad5d-f385-4ee1-984d-83d6b1103c7f",
   "metadata": {},
   "outputs": [],
   "source": [
    "from databricks.sdk import WorkspaceClient\n",
    "\n",
    "CLUSTER_ID = \"\"\n",
    "\n",
    "w = WorkspaceClient(host = \"https://e2-dogfood.staging.cloud.databricks.com\")\n",
    "\n",
    "from databricks.connect import DatabricksSession\n",
    "spark = DatabricksSession.builder.clusterId(CLUSTER_ID).getOrCreate()\n",
    "\n",
    "df =spark.read.table(\"samples.nyctaxi.trips\")\n",
    "df.show()\n",
    "\n",
    "# JOB_ID = 1\n",
    "# j = w.jobs.get(190938342283685)\n",
    "# print(j)"
   ]
  }
 ],
 "metadata": {
  "kernelspec": {
   "display_name": "Python 3 (ipykernel)",
   "language": "python",
   "name": "python3"
  },
  "language_info": {
   "codemirror_mode": {
    "name": "ipython",
    "version": 3
   },
   "file_extension": ".py",
   "mimetype": "text/x-python",
   "name": "python",
   "nbconvert_exporter": "python",
   "pygments_lexer": "ipython3",
   "version": "3.10.12"
  }
 },
 "nbformat": 4,
 "nbformat_minor": 5
}
